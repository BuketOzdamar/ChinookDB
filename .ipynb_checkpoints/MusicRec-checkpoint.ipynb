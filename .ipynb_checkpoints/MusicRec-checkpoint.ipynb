{
 "cells": [
  {
   "cell_type": "code",
   "execution_count": 11,
   "id": "2a9dc4b9-49dc-42e5-9ea2-29b6fd06f6ff",
   "metadata": {},
   "outputs": [],
   "source": [
    "import pandas as pd\n",
    "import os\n",
    "import numpy as np\n",
    "\n",
    "from sklearn.feature_extraction.text import TfidfVectorizer\n",
    "from sklearn.metrics.pairwise import cosine_similarity"
   ]
  },
  {
   "cell_type": "code",
   "execution_count": 8,
   "id": "f63e8d7f-9025-40eb-96d4-37670a364a4a",
   "metadata": {},
   "outputs": [],
   "source": [
    "# Veriyi yükleme\n",
    "df = pd.read_excel(r\"C:\\Users\\EXCALIBUR\\Desktop\\Çalışmalar\\Chinook_DB\\Chinook\\data.xlsx\")\n"
   ]
  },
  {
   "cell_type": "code",
   "execution_count": 9,
   "id": "40769059-ff9d-40e8-8939-d349fcc31ad2",
   "metadata": {},
   "outputs": [
    {
     "data": {
      "text/html": [
       "<div>\n",
       "<style scoped>\n",
       "    .dataframe tbody tr th:only-of-type {\n",
       "        vertical-align: middle;\n",
       "    }\n",
       "\n",
       "    .dataframe tbody tr th {\n",
       "        vertical-align: top;\n",
       "    }\n",
       "\n",
       "    .dataframe thead th {\n",
       "        text-align: right;\n",
       "    }\n",
       "</style>\n",
       "<table border=\"1\" class=\"dataframe\">\n",
       "  <thead>\n",
       "    <tr style=\"text-align: right;\">\n",
       "      <th></th>\n",
       "      <th>CustomerID</th>\n",
       "      <th>CustomerName</th>\n",
       "      <th>Country</th>\n",
       "      <th>AlbumName</th>\n",
       "      <th>ArtistName</th>\n",
       "      <th>SongName</th>\n",
       "      <th>GenreName</th>\n",
       "    </tr>\n",
       "  </thead>\n",
       "  <tbody>\n",
       "    <tr>\n",
       "      <th>0</th>\n",
       "      <td>1</td>\n",
       "      <td>Luís Gonçalves</td>\n",
       "      <td>Brazil</td>\n",
       "      <td>Acústico MTV</td>\n",
       "      <td>Os Paralamas Do Sucesso</td>\n",
       "      <td>Vamo Batê Lata</td>\n",
       "      <td>Latin</td>\n",
       "    </tr>\n",
       "    <tr>\n",
       "      <th>1</th>\n",
       "      <td>1</td>\n",
       "      <td>Luís Gonçalves</td>\n",
       "      <td>Brazil</td>\n",
       "      <td>Acústico MTV [Live]</td>\n",
       "      <td>Cidade Negra</td>\n",
       "      <td>A Cor Do Sol</td>\n",
       "      <td>Reggae</td>\n",
       "    </tr>\n",
       "    <tr>\n",
       "      <th>2</th>\n",
       "      <td>1</td>\n",
       "      <td>Luís Gonçalves</td>\n",
       "      <td>Brazil</td>\n",
       "      <td>Acústico MTV [Live]</td>\n",
       "      <td>Cidade Negra</td>\n",
       "      <td>Podes Crer</td>\n",
       "      <td>Reggae</td>\n",
       "    </tr>\n",
       "    <tr>\n",
       "      <th>3</th>\n",
       "      <td>1</td>\n",
       "      <td>Luís Gonçalves</td>\n",
       "      <td>Brazil</td>\n",
       "      <td>Afrociberdelia</td>\n",
       "      <td>Chico Science &amp; Nação Zumbi</td>\n",
       "      <td>Interlude Zumbi</td>\n",
       "      <td>Latin</td>\n",
       "    </tr>\n",
       "    <tr>\n",
       "      <th>4</th>\n",
       "      <td>1</td>\n",
       "      <td>Luís Gonçalves</td>\n",
       "      <td>Brazil</td>\n",
       "      <td>Appetite for Destruction</td>\n",
       "      <td>Guns N' Roses</td>\n",
       "      <td>Rocket Queen</td>\n",
       "      <td>Rock</td>\n",
       "    </tr>\n",
       "  </tbody>\n",
       "</table>\n",
       "</div>"
      ],
      "text/plain": [
       "   CustomerID    CustomerName Country                 AlbumName  \\\n",
       "0           1  Luís Gonçalves  Brazil              Acústico MTV   \n",
       "1           1  Luís Gonçalves  Brazil       Acústico MTV [Live]   \n",
       "2           1  Luís Gonçalves  Brazil       Acústico MTV [Live]   \n",
       "3           1  Luís Gonçalves  Brazil            Afrociberdelia   \n",
       "4           1  Luís Gonçalves  Brazil  Appetite for Destruction   \n",
       "\n",
       "                    ArtistName         SongName GenreName  \n",
       "0      Os Paralamas Do Sucesso   Vamo Batê Lata     Latin  \n",
       "1                 Cidade Negra     A Cor Do Sol    Reggae  \n",
       "2                 Cidade Negra       Podes Crer    Reggae  \n",
       "3  Chico Science & Nação Zumbi  Interlude Zumbi     Latin  \n",
       "4                Guns N' Roses     Rocket Queen      Rock  "
      ]
     },
     "execution_count": 9,
     "metadata": {},
     "output_type": "execute_result"
    }
   ],
   "source": [
    "df.head()"
   ]
  },
  {
   "cell_type": "code",
   "execution_count": 16,
   "id": "a7f1fe9e-4477-4ef4-a7a7-14f9d25d7ee2",
   "metadata": {},
   "outputs": [],
   "source": [
    "# TF-IDF Uygulama\n",
    "tfidf = TfidfVectorizer(stop_words='english')\n",
    "tfidf_matrix = tfidf.fit_transform(df['SongName'] + \" \" + df['GenreName'] + \" \" + df['ArtistName'])\n",
    "\n",
    "\n",
    "# Şarkılar arasında benzerlik\n",
    "cosine_sim = cosine_similarity(tfidf_matrix, tfidf_matrix)"
   ]
  },
  {
   "cell_type": "code",
   "execution_count": 13,
   "id": "7e4c2560-b62a-411d-9b70-bd96119311d8",
   "metadata": {},
   "outputs": [
    {
     "name": "stdout",
     "output_type": "stream",
     "text": [
      "[[1. 0. 0. ... 0. 0. 0.]\n",
      " [0. 1. 0. ... 0. 0. 0.]\n",
      " [0. 0. 1. ... 0. 0. 0.]\n",
      " ...\n",
      " [0. 0. 0. ... 1. 0. 0.]\n",
      " [0. 0. 0. ... 0. 1. 0.]\n",
      " [0. 0. 0. ... 0. 0. 1.]]\n"
     ]
    }
   ],
   "source": [
    "print(cosine_sim)"
   ]
  },
  {
   "cell_type": "code",
   "execution_count": 38,
   "id": "7995de6a-1333-4780-8a20-94922c08c9f4",
   "metadata": {},
   "outputs": [],
   "source": [
    "import pandas as pd\n",
    "\n",
    "def get_recommendations_with_previous_songs(customer_name, genre):\n",
    "    # Kullanıcının önceki dinlediği şarkıları çek\n",
    "    previous_songs = df[df['CustomerName'] == customer_name]\n",
    "    \n",
    "    # Kullanıcının daha önce dinlediği şarkıların türünü belirleyelim\n",
    "    previous_songs_list = previous_songs[previous_songs['GenreName'] == genre]\n",
    "\n",
    "    # Seçilen türdeki öneri şarkıları alalım\n",
    "    genre_songs = df[df['GenreName'] == genre]\n",
    "    \n",
    "    # Kullanıcıya önerilen şarkıları almak için filtrele\n",
    "    recommendations = genre_songs[genre_songs['CustomerName'] != customer_name]\n",
    "    \n",
    "    # En fazla 5 öneri alalım\n",
    "    recommendations = recommendations[['SongName', 'AlbumName', 'ArtistName', 'GenreName']].head(5)\n",
    "\n",
    "    # Pandas tablosu şeklinde görsel çıktı\n",
    "    return previous_songs_list[['SongName', 'AlbumName', 'ArtistName', 'GenreName']], recommendations"
   ]
  },
  {
   "cell_type": "code",
   "execution_count": 44,
   "id": "0606e2a8-6c58-48c9-836f-3d1092344df4",
   "metadata": {},
   "outputs": [],
   "source": [
    "# Kullanıcıdan alınan tür bilgisiyle öneri yapılması\n",
    "customer_name = \"Leonie Köhler\"\n",
    "genre = \"Pop\""
   ]
  },
  {
   "cell_type": "code",
   "execution_count": 45,
   "id": "119cc686-b0c5-4d39-8e0f-c8440dcd3bd3",
   "metadata": {},
   "outputs": [],
   "source": [
    "previous_songs, recommendations = get_recommendations_with_previous_songs(customer_name, genre)\n"
   ]
  },
  {
   "cell_type": "code",
   "execution_count": 46,
   "id": "103b288c-0875-48b2-a688-f5186eeb085e",
   "metadata": {},
   "outputs": [
    {
     "name": "stdout",
     "output_type": "stream",
     "text": [
      "**Leonie Köhler**'ın Daha Önce Dinlediği Pop Şarkıları:\n",
      "\n",
      " SongName      AlbumName      ArtistName GenreName\n",
      "Lavadeira Axé Bahia 2001 Various Artists       Pop\n",
      "\n",
      "**Önerilen Pop Şarkıları:**\n",
      "\n",
      "           SongName                                                        AlbumName      ArtistName GenreName\n",
      "       Reggae Tchan                                                   Axé Bahia 2001 Various Artists       Pop\n",
      "         TriboTchan                                                   Axé Bahia 2001 Various Artists       Pop\n",
      "           #9 Dream Instant Karma: The Amnesty International Campaign to Save Darfur              U2       Pop\n",
      "   Gimme Some Truth Instant Karma: The Amnesty International Campaign to Save Darfur              U2       Pop\n",
      "Give Peace a Chance Instant Karma: The Amnesty International Campaign to Save Darfur              U2       Pop\n"
     ]
    }
   ],
   "source": [
    "# Sonuçları güzelce yazdıralım\n",
    "print(f\"**{customer_name}**'ın Daha Önce Dinlediği {genre} Şarkıları:\\n\")\n",
    "print(previous_songs.to_string(index=False))\n",
    "\n",
    "print(f\"\\n**Önerilen {genre} Şarkıları:**\\n\")\n",
    "print(recommendations.to_string(index=False))\n"
   ]
  },
  {
   "cell_type": "code",
   "execution_count": 47,
   "id": "1a612996-939a-44af-8f32-0a66c74f03dd",
   "metadata": {},
   "outputs": [],
   "source": [
    "import pickle\n",
    "\n",
    "# Veriyi pickle ile kaydetmek\n",
    "with open('song_recommendations.pkl', 'wb') as f:\n",
    "    pickle.dump({'previous_songs': previous_songs, 'recommendations': recommendations}, f)\n"
   ]
  },
  {
   "cell_type": "code",
   "execution_count": null,
   "id": "b7c5d323-84b3-4908-bd2d-d3e519d3798e",
   "metadata": {},
   "outputs": [],
   "source": []
  }
 ],
 "metadata": {
  "kernelspec": {
   "display_name": "Python 3 (ipykernel)",
   "language": "python",
   "name": "python3"
  },
  "language_info": {
   "codemirror_mode": {
    "name": "ipython",
    "version": 3
   },
   "file_extension": ".py",
   "mimetype": "text/x-python",
   "name": "python",
   "nbconvert_exporter": "python",
   "pygments_lexer": "ipython3",
   "version": "3.10.16"
  }
 },
 "nbformat": 4,
 "nbformat_minor": 5
}
